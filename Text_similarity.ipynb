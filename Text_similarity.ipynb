{
 "cells": [
  {
   "cell_type": "code",
   "execution_count": 1,
   "id": "4d2a0a6d",
   "metadata": {},
   "outputs": [],
   "source": [
    "import pandas as pd\n",
    "import numpy as np\n",
    "import os\n",
    "import gensim"
   ]
  },
  {
   "cell_type": "code",
   "execution_count": 2,
   "id": "bde0ae15",
   "metadata": {},
   "outputs": [
    {
     "data": {
      "text/html": [
       "<div>\n",
       "<style scoped>\n",
       "    .dataframe tbody tr th:only-of-type {\n",
       "        vertical-align: middle;\n",
       "    }\n",
       "\n",
       "    .dataframe tbody tr th {\n",
       "        vertical-align: top;\n",
       "    }\n",
       "\n",
       "    .dataframe thead th {\n",
       "        text-align: right;\n",
       "    }\n",
       "</style>\n",
       "<table border=\"1\" class=\"dataframe\">\n",
       "  <thead>\n",
       "    <tr style=\"text-align: right;\">\n",
       "      <th></th>\n",
       "      <th>text1</th>\n",
       "      <th>text2</th>\n",
       "    </tr>\n",
       "  </thead>\n",
       "  <tbody>\n",
       "    <tr>\n",
       "      <th>0</th>\n",
       "      <td>broadband challenges tv viewing the number of ...</td>\n",
       "      <td>gardener wins double in glasgow britain s jaso...</td>\n",
       "    </tr>\n",
       "    <tr>\n",
       "      <th>1</th>\n",
       "      <td>rap boss arrested over drug find rap mogul mar...</td>\n",
       "      <td>amnesty chief laments war failure the lack of ...</td>\n",
       "    </tr>\n",
       "    <tr>\n",
       "      <th>2</th>\n",
       "      <td>player burn-out worries robinson england coach...</td>\n",
       "      <td>hanks greeted at wintry premiere hollywood sta...</td>\n",
       "    </tr>\n",
       "    <tr>\n",
       "      <th>3</th>\n",
       "      <td>hearts of oak 3-2 cotonsport hearts of oak set...</td>\n",
       "      <td>redford s vision of sundance despite sporting ...</td>\n",
       "    </tr>\n",
       "    <tr>\n",
       "      <th>4</th>\n",
       "      <td>sir paul rocks super bowl crowds sir paul mcca...</td>\n",
       "      <td>mauresmo opens with victory in la amelie maure...</td>\n",
       "    </tr>\n",
       "  </tbody>\n",
       "</table>\n",
       "</div>"
      ],
      "text/plain": [
       "                                               text1  \\\n",
       "0  broadband challenges tv viewing the number of ...   \n",
       "1  rap boss arrested over drug find rap mogul mar...   \n",
       "2  player burn-out worries robinson england coach...   \n",
       "3  hearts of oak 3-2 cotonsport hearts of oak set...   \n",
       "4  sir paul rocks super bowl crowds sir paul mcca...   \n",
       "\n",
       "                                               text2  \n",
       "0  gardener wins double in glasgow britain s jaso...  \n",
       "1  amnesty chief laments war failure the lack of ...  \n",
       "2  hanks greeted at wintry premiere hollywood sta...  \n",
       "3  redford s vision of sundance despite sporting ...  \n",
       "4  mauresmo opens with victory in la amelie maure...  "
      ]
     },
     "execution_count": 2,
     "metadata": {},
     "output_type": "execute_result"
    }
   ],
   "source": [
    "text=pd.read_csv(\"C:\\\\Users\\\\hp\\\\Documents\\\\DataSet\\\\Precily_Task\\\\Precily_Text_Similarity.csv\")\n",
    "text.head()"
   ]
  },
  {
   "cell_type": "code",
   "execution_count": 3,
   "id": "de6ff601",
   "metadata": {},
   "outputs": [
    {
     "data": {
      "text/plain": [
       "(3000, 2)"
      ]
     },
     "execution_count": 3,
     "metadata": {},
     "output_type": "execute_result"
    }
   ],
   "source": [
    "text.shape"
   ]
  },
  {
   "cell_type": "code",
   "execution_count": 4,
   "id": "bf1b32f6",
   "metadata": {},
   "outputs": [
    {
     "name": "stdout",
     "output_type": "stream",
     "text": [
      "0       broadband challenges tv viewing the number of ...\n",
      "1       rap boss arrested over drug find rap mogul mar...\n",
      "2       player burn-out worries robinson england coach...\n",
      "3       hearts of oak 3-2 cotonsport hearts of oak set...\n",
      "4       sir paul rocks super bowl crowds sir paul mcca...\n",
      "                              ...                        \n",
      "2995    uk directors guild nominees named martin scors...\n",
      "2996    u2 to play at grammy awards show irish rock ba...\n",
      "2997    pountney handed ban and fine northampton coach...\n",
      "2998    belle named  best scottish band  belle & sebas...\n",
      "2999    criminal probe on citigroup deals traders at u...\n",
      "Name: text1, Length: 3000, dtype: object\n"
     ]
    }
   ],
   "source": [
    "print(text['text1'])"
   ]
  },
  {
   "cell_type": "code",
   "execution_count": 5,
   "id": "f3f316b2",
   "metadata": {},
   "outputs": [
    {
     "name": "stdout",
     "output_type": "stream",
     "text": [
      "0       gardener wins double in glasgow britain s jaso...\n",
      "1       amnesty chief laments war failure the lack of ...\n",
      "2       hanks greeted at wintry premiere hollywood sta...\n",
      "3       redford s vision of sundance despite sporting ...\n",
      "4       mauresmo opens with victory in la amelie maure...\n",
      "                              ...                        \n",
      "2995    steel firm  to cut  45 000 jobs mittal steel  ...\n",
      "2996    israel looks to us for bank chief israel has a...\n",
      "2997    india and iran in gas export deal india has si...\n",
      "2998    mido makes third apology ahmed  mido  hossam h...\n",
      "2999    former ni minister scott dies former northern ...\n",
      "Name: text2, Length: 3000, dtype: object\n"
     ]
    }
   ],
   "source": [
    "print(text['text2'])"
   ]
  },
  {
   "cell_type": "code",
   "execution_count": 6,
   "id": "8dd1fd5a",
   "metadata": {},
   "outputs": [],
   "source": [
    "t1= text['text1']\n",
    "t2= text['text2']"
   ]
  },
  {
   "cell_type": "code",
   "execution_count": 7,
   "id": "c63ccf0e",
   "metadata": {},
   "outputs": [
    {
     "data": {
      "text/plain": [
       "'rap boss arrested over drug find rap mogul marion  suge  knight has been arrested for violating his parole after he was allegedly found with marijuana.  he was arrested in barstow  california  on saturday following an alleged traffic offence. he is expected to be transferred to a state prison while a decision is made on whether he should be released. mr knight  founder of death row records  served a 10-month jail term in 2004 for punching a man while on parole for an assault conviction. police said mr knight was stopped on saturday after performing an illegal u-turn and a search of his car allegedly found marijuana.  he is also accused of not having insurance. a 18-year-old woman in the car was arrested for providing false information and having a fake id card. she was later released. it was his second alleged violation  having previously served half of a nine-year sentence for breaking the terms of his parole. mr knight  39  was jailed in october 1996 following his involvement in a fight with a rival gang just hours before rapper tupac shakur was killed in a las vegas drive-by shooting. he was driving shakur s car at the time and was shot in the head. at the time he was on probation for assaulting two musicians. mr knight  a former bodyguard  set up death row records in the early 1990s with shakur and dr dre among his protegees. but the label has always been dogged by allegations it supports gang culture and fuels the east and west coast rap rivalry.'"
      ]
     },
     "execution_count": 7,
     "metadata": {},
     "output_type": "execute_result"
    }
   ],
   "source": [
    "t1[1]"
   ]
  },
  {
   "cell_type": "code",
   "execution_count": 8,
   "id": "ce648e6b",
   "metadata": {},
   "outputs": [],
   "source": [
    "import spacy as sp"
   ]
  },
  {
   "cell_type": "code",
   "execution_count": 9,
   "id": "739aa9a0",
   "metadata": {},
   "outputs": [],
   "source": [
    "nlp= sp.load('en_core_web_lg')"
   ]
  },
  {
   "cell_type": "code",
   "execution_count": 10,
   "id": "33170afa",
   "metadata": {},
   "outputs": [],
   "source": [
    "text=text.assign(Id=range(1, len(text) + 1))"
   ]
  },
  {
   "cell_type": "code",
   "execution_count": 11,
   "id": "fc0337ce",
   "metadata": {},
   "outputs": [
    {
     "data": {
      "text/html": [
       "<div>\n",
       "<style scoped>\n",
       "    .dataframe tbody tr th:only-of-type {\n",
       "        vertical-align: middle;\n",
       "    }\n",
       "\n",
       "    .dataframe tbody tr th {\n",
       "        vertical-align: top;\n",
       "    }\n",
       "\n",
       "    .dataframe thead th {\n",
       "        text-align: right;\n",
       "    }\n",
       "</style>\n",
       "<table border=\"1\" class=\"dataframe\">\n",
       "  <thead>\n",
       "    <tr style=\"text-align: right;\">\n",
       "      <th></th>\n",
       "      <th>text1</th>\n",
       "      <th>text2</th>\n",
       "      <th>Id</th>\n",
       "    </tr>\n",
       "  </thead>\n",
       "  <tbody>\n",
       "    <tr>\n",
       "      <th>0</th>\n",
       "      <td>broadband challenges tv viewing the number of ...</td>\n",
       "      <td>gardener wins double in glasgow britain s jaso...</td>\n",
       "      <td>1</td>\n",
       "    </tr>\n",
       "    <tr>\n",
       "      <th>1</th>\n",
       "      <td>rap boss arrested over drug find rap mogul mar...</td>\n",
       "      <td>amnesty chief laments war failure the lack of ...</td>\n",
       "      <td>2</td>\n",
       "    </tr>\n",
       "    <tr>\n",
       "      <th>2</th>\n",
       "      <td>player burn-out worries robinson england coach...</td>\n",
       "      <td>hanks greeted at wintry premiere hollywood sta...</td>\n",
       "      <td>3</td>\n",
       "    </tr>\n",
       "    <tr>\n",
       "      <th>3</th>\n",
       "      <td>hearts of oak 3-2 cotonsport hearts of oak set...</td>\n",
       "      <td>redford s vision of sundance despite sporting ...</td>\n",
       "      <td>4</td>\n",
       "    </tr>\n",
       "    <tr>\n",
       "      <th>4</th>\n",
       "      <td>sir paul rocks super bowl crowds sir paul mcca...</td>\n",
       "      <td>mauresmo opens with victory in la amelie maure...</td>\n",
       "      <td>5</td>\n",
       "    </tr>\n",
       "  </tbody>\n",
       "</table>\n",
       "</div>"
      ],
      "text/plain": [
       "                                               text1  \\\n",
       "0  broadband challenges tv viewing the number of ...   \n",
       "1  rap boss arrested over drug find rap mogul mar...   \n",
       "2  player burn-out worries robinson england coach...   \n",
       "3  hearts of oak 3-2 cotonsport hearts of oak set...   \n",
       "4  sir paul rocks super bowl crowds sir paul mcca...   \n",
       "\n",
       "                                               text2  Id  \n",
       "0  gardener wins double in glasgow britain s jaso...   1  \n",
       "1  amnesty chief laments war failure the lack of ...   2  \n",
       "2  hanks greeted at wintry premiere hollywood sta...   3  \n",
       "3  redford s vision of sundance despite sporting ...   4  \n",
       "4  mauresmo opens with victory in la amelie maure...   5  "
      ]
     },
     "execution_count": 11,
     "metadata": {},
     "output_type": "execute_result"
    }
   ],
   "source": [
    "text.head()"
   ]
  },
  {
   "cell_type": "code",
   "execution_count": 12,
   "id": "1c4b4b26",
   "metadata": {},
   "outputs": [
    {
     "data": {
      "text/html": [
       "<div>\n",
       "<style scoped>\n",
       "    .dataframe tbody tr th:only-of-type {\n",
       "        vertical-align: middle;\n",
       "    }\n",
       "\n",
       "    .dataframe tbody tr th {\n",
       "        vertical-align: top;\n",
       "    }\n",
       "\n",
       "    .dataframe thead th {\n",
       "        text-align: right;\n",
       "    }\n",
       "</style>\n",
       "<table border=\"1\" class=\"dataframe\">\n",
       "  <thead>\n",
       "    <tr style=\"text-align: right;\">\n",
       "      <th></th>\n",
       "      <th>Id</th>\n",
       "      <th>text1</th>\n",
       "      <th>text2</th>\n",
       "    </tr>\n",
       "  </thead>\n",
       "  <tbody>\n",
       "    <tr>\n",
       "      <th>0</th>\n",
       "      <td>1</td>\n",
       "      <td>broadband challenges tv viewing the number of ...</td>\n",
       "      <td>gardener wins double in glasgow britain s jaso...</td>\n",
       "    </tr>\n",
       "    <tr>\n",
       "      <th>1</th>\n",
       "      <td>2</td>\n",
       "      <td>rap boss arrested over drug find rap mogul mar...</td>\n",
       "      <td>amnesty chief laments war failure the lack of ...</td>\n",
       "    </tr>\n",
       "    <tr>\n",
       "      <th>2</th>\n",
       "      <td>3</td>\n",
       "      <td>player burn-out worries robinson england coach...</td>\n",
       "      <td>hanks greeted at wintry premiere hollywood sta...</td>\n",
       "    </tr>\n",
       "    <tr>\n",
       "      <th>3</th>\n",
       "      <td>4</td>\n",
       "      <td>hearts of oak 3-2 cotonsport hearts of oak set...</td>\n",
       "      <td>redford s vision of sundance despite sporting ...</td>\n",
       "    </tr>\n",
       "    <tr>\n",
       "      <th>4</th>\n",
       "      <td>5</td>\n",
       "      <td>sir paul rocks super bowl crowds sir paul mcca...</td>\n",
       "      <td>mauresmo opens with victory in la amelie maure...</td>\n",
       "    </tr>\n",
       "  </tbody>\n",
       "</table>\n",
       "</div>"
      ],
      "text/plain": [
       "   Id                                              text1  \\\n",
       "0   1  broadband challenges tv viewing the number of ...   \n",
       "1   2  rap boss arrested over drug find rap mogul mar...   \n",
       "2   3  player burn-out worries robinson england coach...   \n",
       "3   4  hearts of oak 3-2 cotonsport hearts of oak set...   \n",
       "4   5  sir paul rocks super bowl crowds sir paul mcca...   \n",
       "\n",
       "                                               text2  \n",
       "0  gardener wins double in glasgow britain s jaso...  \n",
       "1  amnesty chief laments war failure the lack of ...  \n",
       "2  hanks greeted at wintry premiere hollywood sta...  \n",
       "3  redford s vision of sundance despite sporting ...  \n",
       "4  mauresmo opens with victory in la amelie maure...  "
      ]
     },
     "execution_count": 12,
     "metadata": {},
     "output_type": "execute_result"
    }
   ],
   "source": [
    "text= text[['Id','text1','text2']]\n",
    "text.head()"
   ]
  },
  {
   "cell_type": "code",
   "execution_count": 14,
   "id": "c1f8c374",
   "metadata": {},
   "outputs": [],
   "source": [
    "t1= text.loc[text['Id']==1,'text1'].iloc[0]"
   ]
  },
  {
   "cell_type": "code",
   "execution_count": 15,
   "id": "47054345",
   "metadata": {},
   "outputs": [
    {
     "data": {
      "text/plain": [
       "'broadband challenges tv viewing the number of europeans with broadband has exploded over the past 12 months  with the web eating into tv viewing habits  research suggests.  just over 54 million people are hooked up to the net via broadband  up from 34 million a year ago  according to market analysts nielsen/netratings. the total number of people online in europe has broken the 100 million mark. the popularity of the net has meant that many are turning away from tv  say analysts jupiter research. it found that a quarter of web users said they spent less time watching tv in favour of the net  the report by nielsen/netratings found that the number of people with fast internet access had risen by 60% over the past year.  the biggest jump was in italy  where it rose by 120%. britain was close behind  with broadband users almost doubling in a year. the growth has been fuelled by lower prices and a wider choice of always-on  fast-net subscription plans.  twelve months ago high speed internet users made up just over one third of the audience in europe; now they are more than 50% and we expect this number to keep growing   said gabrielle prior  nielsen/netratings analyst.  as the number of high-speed surfers grows  websites will need to adapt  update and enhance their content to retain their visitors and encourage new ones.  the total number of europeans online rose by 12% to 100 million over the past year  the report showed  with the biggest rise in france  italy  britain and germany.  the ability to browse web pages at high speed  download files such as music or films and play online games is changing what people do in their spare time.  a study by analysts jupiter research suggested that broadband was challenging television viewing habits. in homes with broadband  40% said they were spending less time watching tv. the threat to tv was greatest in countries where broadband was on the up  in particular the uk  france and spain  said the report. it said tv companies faced a major long-term threat over the next five years  with broadband predicted to grow from 19% to 37% of households by 2009.  year-on-year we are continuing to see a seismic shift in where  when and how europe s population consume media for information and entertainment and this has big implications for tv  newspaper and radio   said jupiter research analyst olivier beauvillian.'"
      ]
     },
     "execution_count": 15,
     "metadata": {},
     "output_type": "execute_result"
    }
   ],
   "source": [
    "t1"
   ]
  },
  {
   "cell_type": "code",
   "execution_count": 16,
   "id": "5c1e81fc",
   "metadata": {},
   "outputs": [],
   "source": [
    "t1= nlp(t1)"
   ]
  },
  {
   "cell_type": "code",
   "execution_count": 18,
   "id": "ea855823",
   "metadata": {},
   "outputs": [],
   "source": [
    "t2= text.loc[text['Id']==1,'text2'].iloc[0]"
   ]
  },
  {
   "cell_type": "code",
   "execution_count": 19,
   "id": "63c83931",
   "metadata": {},
   "outputs": [],
   "source": [
    "t2= nlp(t2)"
   ]
  },
  {
   "cell_type": "code",
   "execution_count": 20,
   "id": "42c11514",
   "metadata": {},
   "outputs": [],
   "source": [
    "import similarity"
   ]
  },
  {
   "cell_type": "code",
   "execution_count": 21,
   "id": "c9345213",
   "metadata": {},
   "outputs": [],
   "source": [
    "All_doct1= [nlp(row) for row in text['text1']]\n",
    "All_doct2= [nlp(row) for row in text['text2']]"
   ]
  },
  {
   "cell_type": "code",
   "execution_count": 22,
   "id": "5d0d21a9",
   "metadata": {},
   "outputs": [],
   "source": [
    "sims=[]\n",
    "doc_Id=[]\n",
    "for i in range (len(text)):\n",
    "        sim=All_doct1[i].similarity(All_doct2[i])\n",
    "        sims.append(sim)\n",
    "        doc_Id.append(i)\n",
    "        sims_docs= pd.DataFrame(list(zip(doc_Id,sims)),columns=['doc_Id','sims'])"
   ]
  },
  {
   "cell_type": "code",
   "execution_count": 23,
   "id": "a847bfe9",
   "metadata": {},
   "outputs": [],
   "source": [
    "sims_doc_sorted= sims_docs.sort_values(by=['sims'],ascending=False)"
   ]
  },
  {
   "cell_type": "code",
   "execution_count": 24,
   "id": "a928dfcb",
   "metadata": {},
   "outputs": [],
   "source": [
    "top_10= text.iloc[sims_doc_sorted['doc_Id'][1:10]]"
   ]
  },
  {
   "cell_type": "code",
   "execution_count": 25,
   "id": "78fce095",
   "metadata": {},
   "outputs": [],
   "source": [
    "top_sims_score= pd.concat([top_10,sims_doc_sorted['sims'][1:10]],axis=1)"
   ]
  },
  {
   "cell_type": "code",
   "execution_count": 26,
   "id": "8ad15646",
   "metadata": {},
   "outputs": [
    {
     "data": {
      "text/html": [
       "<div>\n",
       "<style scoped>\n",
       "    .dataframe tbody tr th:only-of-type {\n",
       "        vertical-align: middle;\n",
       "    }\n",
       "\n",
       "    .dataframe tbody tr th {\n",
       "        vertical-align: top;\n",
       "    }\n",
       "\n",
       "    .dataframe thead th {\n",
       "        text-align: right;\n",
       "    }\n",
       "</style>\n",
       "<table border=\"1\" class=\"dataframe\">\n",
       "  <thead>\n",
       "    <tr style=\"text-align: right;\">\n",
       "      <th></th>\n",
       "      <th>Id</th>\n",
       "      <th>text1</th>\n",
       "      <th>text2</th>\n",
       "      <th>sims</th>\n",
       "    </tr>\n",
       "  </thead>\n",
       "  <tbody>\n",
       "    <tr>\n",
       "      <th>2304</th>\n",
       "      <td>2305</td>\n",
       "      <td>spurs to sign iceland u21 star tottenham are p...</td>\n",
       "      <td>spurs to sign iceland u21 star tottenham are p...</td>\n",
       "      <td>1.000000</td>\n",
       "    </tr>\n",
       "    <tr>\n",
       "      <th>2080</th>\n",
       "      <td>2081</td>\n",
       "      <td>lib dems highlight problem debt people vulnera...</td>\n",
       "      <td>blair backs  pre-election budget  tony blair h...</td>\n",
       "      <td>0.989587</td>\n",
       "    </tr>\n",
       "    <tr>\n",
       "      <th>251</th>\n",
       "      <td>252</td>\n",
       "      <td>economy  strong  in election year uk businesse...</td>\n",
       "      <td>bank opts to leave rates on hold the bank of e...</td>\n",
       "      <td>0.989503</td>\n",
       "    </tr>\n",
       "    <tr>\n",
       "      <th>2256</th>\n",
       "      <td>2257</td>\n",
       "      <td>bt offers free net phone calls bt is offering ...</td>\n",
       "      <td>the future in your pocket if you are a geek or...</td>\n",
       "      <td>0.986824</td>\n",
       "    </tr>\n",
       "    <tr>\n",
       "      <th>1336</th>\n",
       "      <td>1337</td>\n",
       "      <td>dvd copy protection strengthened dvds will be ...</td>\n",
       "      <td>swap offer for pirated windows xp computer gia...</td>\n",
       "      <td>0.986542</td>\n",
       "    </tr>\n",
       "    <tr>\n",
       "      <th>315</th>\n",
       "      <td>316</td>\n",
       "      <td>fox attacks blair s tory  lies  tony blair lie...</td>\n",
       "      <td>brown and blair face new rift claims for the u...</td>\n",
       "      <td>0.986453</td>\n",
       "    </tr>\n",
       "    <tr>\n",
       "      <th>2122</th>\n",
       "      <td>2123</td>\n",
       "      <td>straw attacked on china arms moves to lift the...</td>\n",
       "      <td>uk heading wrong way - howard tony blair has h...</td>\n",
       "      <td>0.985892</td>\n",
       "    </tr>\n",
       "    <tr>\n",
       "      <th>46</th>\n",
       "      <td>47</td>\n",
       "      <td>brown and blair face new rift claims for the u...</td>\n",
       "      <td>tories reject rethink on axed mp sacked mp how...</td>\n",
       "      <td>0.985625</td>\n",
       "    </tr>\n",
       "    <tr>\n",
       "      <th>2866</th>\n",
       "      <td>2867</td>\n",
       "      <td>chris evans back on the market broadcaster chr...</td>\n",
       "      <td>music man to the oscars bill conti s job of mu...</td>\n",
       "      <td>0.985524</td>\n",
       "    </tr>\n",
       "  </tbody>\n",
       "</table>\n",
       "</div>"
      ],
      "text/plain": [
       "        Id                                              text1  \\\n",
       "2304  2305  spurs to sign iceland u21 star tottenham are p...   \n",
       "2080  2081  lib dems highlight problem debt people vulnera...   \n",
       "251    252  economy  strong  in election year uk businesse...   \n",
       "2256  2257  bt offers free net phone calls bt is offering ...   \n",
       "1336  1337  dvd copy protection strengthened dvds will be ...   \n",
       "315    316  fox attacks blair s tory  lies  tony blair lie...   \n",
       "2122  2123  straw attacked on china arms moves to lift the...   \n",
       "46      47  brown and blair face new rift claims for the u...   \n",
       "2866  2867  chris evans back on the market broadcaster chr...   \n",
       "\n",
       "                                                  text2      sims  \n",
       "2304  spurs to sign iceland u21 star tottenham are p...  1.000000  \n",
       "2080  blair backs  pre-election budget  tony blair h...  0.989587  \n",
       "251   bank opts to leave rates on hold the bank of e...  0.989503  \n",
       "2256  the future in your pocket if you are a geek or...  0.986824  \n",
       "1336  swap offer for pirated windows xp computer gia...  0.986542  \n",
       "315   brown and blair face new rift claims for the u...  0.986453  \n",
       "2122  uk heading wrong way - howard tony blair has h...  0.985892  \n",
       "46    tories reject rethink on axed mp sacked mp how...  0.985625  \n",
       "2866  music man to the oscars bill conti s job of mu...  0.985524  "
      ]
     },
     "execution_count": 26,
     "metadata": {},
     "output_type": "execute_result"
    }
   ],
   "source": [
    "top_sims_score"
   ]
  },
  {
   "cell_type": "code",
   "execution_count": null,
   "id": "220f28ad",
   "metadata": {},
   "outputs": [],
   "source": []
  }
 ],
 "metadata": {
  "kernelspec": {
   "display_name": "Python 3 (ipykernel)",
   "language": "python",
   "name": "python3"
  },
  "language_info": {
   "codemirror_mode": {
    "name": "ipython",
    "version": 3
   },
   "file_extension": ".py",
   "mimetype": "text/x-python",
   "name": "python",
   "nbconvert_exporter": "python",
   "pygments_lexer": "ipython3",
   "version": "3.10.9"
  }
 },
 "nbformat": 4,
 "nbformat_minor": 5
}
